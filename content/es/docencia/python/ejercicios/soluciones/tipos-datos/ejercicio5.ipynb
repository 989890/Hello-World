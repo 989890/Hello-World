{
  "cells": [
    {
      "cell_type": "markdown",
      "metadata": {
        "id": "view-in-github",
        "colab_type": "text"
      },
      "source": [
        "<a href=\"https://colab.research.google.com/github/989890/Hello-World/blob/main/content/es/docencia/python/ejercicios/soluciones/tipos-datos/ejercicio5.ipynb\" target=\"_parent\"><img src=\"https://colab.research.google.com/assets/colab-badge.svg\" alt=\"Open In Colab\"/></a>"
      ]
    },
    {
      "cell_type": "markdown",
      "metadata": {
        "id": "BhiWemG-DHdR"
      },
      "source": [
        "## Ejercicio \n",
        "\n",
        "Escribe un programa que pregunte al usuario por el número de horas trabajadas y el coste por hora. Después debe mostrar por pantalla la paga que le corresponde. "
      ]
    },
    {
      "cell_type": "markdown",
      "metadata": {
        "id": "X_UyYwMWDHdX"
      },
      "source": [
        "## Solución"
      ]
    },
    {
      "cell_type": "code",
      "execution_count": null,
      "metadata": {
        "id": "4GspWC5lDHdY",
        "outputId": "cce3c802-f4e5-4046-a7ba-95d0ff48e13d"
      },
      "outputs": [
        {
          "output_type": "stream",
          "name": "stdout",
          "text": [
            "Tu paga es 200.0\n"
          ]
        }
      ],
      "source": [
        "horas = float(input(\"Introduce tus horas de trabajo: \"))\n",
        "coste = float(input(\"Introduce lo que cobras por hora: \"))\n",
        "paga = horas * coste\n",
        "print(\"Tu paga es\", paga)"
      ]
    }
  ],
  "metadata": {
    "kernelspec": {
      "display_name": "Python 3",
      "language": "python",
      "name": "python3"
    },
    "language_info": {
      "codemirror_mode": {
        "name": "ipython",
        "version": 3
      },
      "file_extension": ".py",
      "mimetype": "text/x-python",
      "name": "python",
      "nbconvert_exporter": "python",
      "pygments_lexer": "ipython3",
      "version": "3.9.1-final"
    },
    "colab": {
      "provenance": [],
      "include_colab_link": true
    }
  },
  "nbformat": 4,
  "nbformat_minor": 0
}